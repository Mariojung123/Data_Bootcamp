{
 "cells": [
  {
   "cell_type": "markdown",
   "id": "5187c4e1",
   "metadata": {},
   "source": [
    "# 라이브러리 설치"
   ]
  },
  {
   "cell_type": "code",
   "execution_count": 1,
   "id": "c2b7084e",
   "metadata": {},
   "outputs": [
    {
     "name": "stdout",
     "output_type": "stream",
     "text": [
      "Requirement already satisfied: selenium in /Users/mandu/opt/anaconda3/lib/python3.9/site-packages (4.10.0)\n",
      "Requirement already satisfied: urllib3[socks]<3,>=1.26 in /Users/mandu/opt/anaconda3/lib/python3.9/site-packages (from selenium) (1.26.11)\n",
      "Requirement already satisfied: trio~=0.17 in /Users/mandu/opt/anaconda3/lib/python3.9/site-packages (from selenium) (0.22.1)\n",
      "Requirement already satisfied: trio-websocket~=0.9 in /Users/mandu/opt/anaconda3/lib/python3.9/site-packages (from selenium) (0.10.3)\n",
      "Requirement already satisfied: certifi>=2021.10.8 in /Users/mandu/opt/anaconda3/lib/python3.9/site-packages (from selenium) (2023.5.7)\n",
      "Requirement already satisfied: attrs>=20.1.0 in /Users/mandu/opt/anaconda3/lib/python3.9/site-packages (from trio~=0.17->selenium) (21.4.0)\n",
      "Requirement already satisfied: sortedcontainers in /Users/mandu/opt/anaconda3/lib/python3.9/site-packages (from trio~=0.17->selenium) (2.4.0)\n",
      "Requirement already satisfied: idna in /Users/mandu/opt/anaconda3/lib/python3.9/site-packages (from trio~=0.17->selenium) (3.3)\n",
      "Requirement already satisfied: outcome in /Users/mandu/opt/anaconda3/lib/python3.9/site-packages (from trio~=0.17->selenium) (1.2.0)\n",
      "Requirement already satisfied: sniffio in /Users/mandu/opt/anaconda3/lib/python3.9/site-packages (from trio~=0.17->selenium) (1.2.0)\n",
      "Requirement already satisfied: exceptiongroup>=1.0.0rc9 in /Users/mandu/opt/anaconda3/lib/python3.9/site-packages (from trio~=0.17->selenium) (1.1.2)\n",
      "Requirement already satisfied: wsproto>=0.14 in /Users/mandu/opt/anaconda3/lib/python3.9/site-packages (from trio-websocket~=0.9->selenium) (1.2.0)\n",
      "Requirement already satisfied: PySocks!=1.5.7,<2.0,>=1.5.6 in /Users/mandu/opt/anaconda3/lib/python3.9/site-packages (from urllib3[socks]<3,>=1.26->selenium) (1.7.1)\n",
      "Requirement already satisfied: h11<1,>=0.9.0 in /Users/mandu/opt/anaconda3/lib/python3.9/site-packages (from wsproto>=0.14->trio-websocket~=0.9->selenium) (0.14.0)\n"
     ]
    }
   ],
   "source": [
    "!pip install selenium"
   ]
  },
  {
   "cell_type": "code",
   "execution_count": 9,
   "id": "b9f2b4b0",
   "metadata": {},
   "outputs": [
    {
     "name": "stdout",
     "output_type": "stream",
     "text": [
      "Collecting webdriver-manager\n",
      "  Downloading webdriver_manager-3.9.0-py2.py3-none-any.whl (26 kB)\n",
      "Requirement already satisfied: requests in /Users/mandu/opt/anaconda3/lib/python3.9/site-packages (from webdriver-manager) (2.28.1)\n",
      "Collecting python-dotenv (from webdriver-manager)\n",
      "  Downloading python_dotenv-1.0.0-py3-none-any.whl (19 kB)\n",
      "Requirement already satisfied: tqdm in /Users/mandu/opt/anaconda3/lib/python3.9/site-packages (from webdriver-manager) (4.64.1)\n",
      "Requirement already satisfied: packaging in /Users/mandu/opt/anaconda3/lib/python3.9/site-packages (from webdriver-manager) (21.3)\n",
      "Requirement already satisfied: pyparsing!=3.0.5,>=2.0.2 in /Users/mandu/opt/anaconda3/lib/python3.9/site-packages (from packaging->webdriver-manager) (3.0.9)\n",
      "Requirement already satisfied: charset-normalizer<3,>=2 in /Users/mandu/opt/anaconda3/lib/python3.9/site-packages (from requests->webdriver-manager) (2.0.4)\n",
      "Requirement already satisfied: idna<4,>=2.5 in /Users/mandu/opt/anaconda3/lib/python3.9/site-packages (from requests->webdriver-manager) (3.3)\n",
      "Requirement already satisfied: urllib3<1.27,>=1.21.1 in /Users/mandu/opt/anaconda3/lib/python3.9/site-packages (from requests->webdriver-manager) (1.26.11)\n",
      "Requirement already satisfied: certifi>=2017.4.17 in /Users/mandu/opt/anaconda3/lib/python3.9/site-packages (from requests->webdriver-manager) (2023.5.7)\n",
      "Installing collected packages: python-dotenv, webdriver-manager\n",
      "Successfully installed python-dotenv-1.0.0 webdriver-manager-3.9.0\n",
      "Note: you may need to restart the kernel to use updated packages.\n"
     ]
    }
   ],
   "source": [
    "pip install webdriver-manager"
   ]
  },
  {
   "cell_type": "markdown",
   "id": "42526e7d",
   "metadata": {},
   "source": [
    "# Selenium 연습"
   ]
  },
  {
   "cell_type": "markdown",
   "id": "b363551b",
   "metadata": {},
   "source": [
    "## By.Name 구문"
   ]
  },
  {
   "cell_type": "code",
   "execution_count": 2,
   "id": "aff26984",
   "metadata": {},
   "outputs": [],
   "source": [
    "from selenium import webdriver\n",
    "from selenium.webdriver.common.by import By\n",
    "from selenium.webdriver.common.keys import Keys\n",
    "from selenium.webdriver.chrome.service import Service\n",
    "\n",
    "# ChromeDriver의 경로를 지정하고, WebDriver 인스턴스를 생성합니다.\n",
    "\n",
    "driver = webdriver.Chrome()\n",
    "\n",
    "# 지마켓의 메인 페이지를 엽니다.\n",
    "driver.get('https://www.gmarket.co.kr')\n",
    "\n",
    "# 검색어를 입력할 수 있는 input 요소를 찾습니다.\n",
    "search_box = driver.find_element(By.NAME, 'keyword')\n",
    "\n",
    "# 검색어를 입력하고, Enter 키를 눌러 검색을 실행합니다.\n",
    "search_box.send_keys('손풍기')\n",
    "search_box.send_keys(Keys.RETURN)\n",
    "\n",
    "# 작업이 끝나면 WebDriver를 종료하여 브라우저 창을 닫습니다.\n",
    "driver.quit()"
   ]
  },
  {
   "cell_type": "markdown",
   "id": "f7e91211",
   "metadata": {},
   "source": [
    "## By.CSS_SELECTOR 구문"
   ]
  },
  {
   "cell_type": "code",
   "execution_count": 5,
   "id": "d0ba22cd",
   "metadata": {},
   "outputs": [],
   "source": [
    "from selenium import webdriver\n",
    "from selenium.webdriver.common.by import By\n",
    "from selenium.webdriver.common.keys import Keys\n",
    "from selenium.webdriver.chrome.service import Service\n",
    "\n",
    "title_list = list()\n",
    "\n",
    "# ChromeDriver의 경로를 지정하고, WebDriver 인스턴스를 생성합니다.\n",
    "driver = webdriver.Chrome()\n",
    "\n",
    "# 지마켓의 베스트 페이지를 엽니다.\n",
    "driver.get('https://www.gmarket.co.kr/n/best')\n",
    "\n",
    "# 상품명을 입력 받아 item_list 변수에 저장합니다.\n",
    "item_list = driver.find_elements(By.CSS_SELECTOR, 'a.itemname')\n",
    "\n",
    "for item in item_list:\n",
    "    title_list.append(item.text)\n",
    "\n",
    "driver.quit()"
   ]
  },
  {
   "cell_type": "code",
   "execution_count": 6,
   "id": "4704868d",
   "metadata": {},
   "outputs": [
    {
     "name": "stdout",
     "output_type": "stream",
     "text": [
      "['[물고기삼촌]양꼬치 양깍두기 양고기 1kg + 쯔란1봉', '[올반키친]올반 찰핫도그15봉+크런치핫도그15봉(신세계푸드 중복쿠폰 할인)', '[메가박스](유니버스클럽 전용) 메가박스 일반예매권 2D-주중/주말', '[블랙야크키즈](신세계강남점)[역시즌] 한겨울 가벼운 여아 프리미엄 구스롱 다운[BK로라L다운자켓][정상가:339 000원]', '[프로스펙스][프로스펙스] 워킹/런닝/스니커즈 운동화 13종 택1 PS0US22S061', '[리버티]유기농 생리대 120P 7990원/사은품증정 리버티 SAP FREE 유기농 센시티브 롱라이너 20PX6팩 전라인 특가', '[동원에프앤비]라이트스탠다드 참치 85g x 14캔 +제로음료6병 랜덤증정', '[Gfresh]냉동열대과일 두리안 450g/2세트이상 천원씩 할인', '[티젠]티젠 콤부차 30스틱X2박스 택2', '리더잭 썸머 텐셀 팬츠 2종', '+10%쿠폰 단 세시간 이랜드키즈 최대80% 여름시즌오프 끝판왕', '[디펜드]최종가17910원/디펜드 맘스 안심팬티 8매x4팩/산모전용팬티 의약외품 인증', '미들 경량 논슬립 레인부츠 +휴대폰링 증정', '(놀이대전) 캐리비안베이 골드1 골드2 종일권(이용기간 상이)', '[지프 (의류)](롯데백화점)공용 로고 반팔티셔츠 7종 택1 (JO2TSU091 외 6종)', '깐다슬기 200gx3(다슬기살+육수)/강원도자연산', '공구/ 휴머니스트-소녀소년들을 위한 안내서 선택구매', '[마음심은]소문난 배윤자 일품 포기김치 5kg 국내산100% 어디에나 잘어울리는 깔끔한 서울식 김치', '[NII]20%쿠폰 NII 라스트찬스 BEST 특가 세일전', '[락토핏]종근당건강 유산균 락토핏 골드 50포 3통(150일분) +골드 30포 증정', '[햇반]햇반 210g x24입', '[올반키친]올반 슈퍼크런치 치킨텐더 440gx5팩(신세계푸드 중복쿠폰 할인)', '[매일유업]매일 헬로엔요 플레인 200ml 48팩', '[폰타나]폰타나 크림파스타소스430g 3개 + 스파게티면', '아삭하고 단단한 복숭아 3kg내외(12-15과)', '(놀이대전)한국민속촌 종일 자유이용권', '[아이더](신세계본점)23SS 아이더키즈 JUM23M81공용 쿨티셔츠+바지 세트(시원한 기능성)방학 여행 선물 바캉스 ...', '(놀이대전)전국 히어로플레이파크/히어로키즈카페/경주/대구/동탄/부산/양산/의정부/청주/창원', '[구글플레이]기프트코드 5만원 / 구글 기프트카드', '[피코크]피코크 떡갈비 450gx6팩 (신세계푸드 중복 쿠폰 할인)', '[요기요](요기요) 1만원권', '[구글플레이]기프트코드 10만원 / 구글 기프트카드', '[CGV](첫구매/웰컴백 쿠폰최종가 5 000원) CGV 미션임파서블7 전용예매권', '(놀이대전) 영등포/일산/금천 뽀로로파크 이용권 (~7/31)', '이맛쌀 20kg', '남녀공용 쿨팬츠 홈웨어 D02', '[제주삼다수][무료배송] 제주 삼다수 그린(무라벨) 2L 24병 (유라벨/무라벨 랜덤발송)', '[CGV](CGV) 미션임파서블7 전용 예매권-07월 17일부터 구매/사용가능', '[농심]한정수량특가 올리브 짜파게티 5입X8개(40개)', '[한국교육방송공사]EBS 문해력 시리즈 - 등급평가/어휘/독해/배경지식 P단계~6학년 학년별 선택구매', '[이마트24](클럽전용) 이마트24 1만원 금액권', '[페리오]페리오 뉴후레쉬 알파 170g 16개', '(놀이대전) 파라다이스시티 원더박스', '(놀이대전) 7개지점 타요키즈카페 이용권 (~7/31)', '[SPAM]스팸 25%라이트 200g x9개', '(10%) 쥬쥬스마마 ~오후1시 선착순 파격SALE 10900원/ 프리마인 원피스', '[헬로]헬로 순수 3겹 30m 30롤 3팩 천연펄프 화장지 초특가행사', '[뱅뱅]15%쿠폰 뱅뱅 본사입점 기념 여름 남여캐주얼 핫템', '[크록스]본사공식 크록스 인기크록스 141종 택 (GC0723)', '[구글플레이]기프트코드 3만원 / 구글 기프트카드', '구워먹는 찰떡 국내산100% 찰떡 700gX2팩 꿀조청증정 해썹', '[테크]테크 베이킹구연산 액체세제 일반 리필 1.8L 4개', '[어나더디](15%쿠폰가 11820원)(1+1) 더 아이 주니어 하이틴 심리스 브라탑 일체형 노와이어', '[오뚜기]오뚜기 맛있는 밥 30입(210gx10)x 3개 / 오뚜기 흰밥', '(5%)국산 10켤레 남자 여자 페이크삭스 덧신 양말', '[포스트]포스트 골든그래놀라 아몬드빈 360gx3 +밀폐용기증정', '쿠폰가 17430원 충주씨샵_하늘작 충주 복숭아 3kg(8~12과내)', '우리아이 반찬 짜지않은 메추리알 장조림 1kg x 2팩', '[농심]안성탕면 125g 5입X8개(총40개)', '[오브쿡스]네이처우드 옻칠 수저세트 5인 / 나무 숟가락 젓가락', '시즌오프가 1+1 남여공용 비침없는 면 프린팅 티셔츠 장당 3750원 딱 오늘만 가능한 가격', '15% 쿠폰가 12670원 (2장세트) 쿨모달 슬립상하의세트 1+1 여름잠옷 홈웨어 파자마 실크 NO캡', '[메이블린]메이블린뉴욕 1+1 얼티매트 립스틱 10종 중 택(교차선택가능) (+증정)', '[비오템옴므](신세계강남점)아쿠아틱 로션 애프터 쉐이브 200ml', '[KFC](KFC) 중복기념파티팩', '[스팸]스팸 클래식 200g x9개', '[한빛에듀](행사특가) 똑똑한두뇌연습 그림찾기시리즈 전 5권 (퀴즈/다른/하나다른/숨은/사진으로다른)', '[CGV](CGV) G마켓 예매권(금요특가_7/21)', '[스카치브라이트]걸이형 스펀지 수세미 혼합팩 12입(걸이포함)', '[광천김]김부각 5종 세트', '시매쓰 영재사고력수학 1031(2023개정판) / 과학 1031 단계별 선택구매', '[매일유업]어메이징 오트 언스위트 190ml 24팩 주말반짝특가', '[겔업]겔업 고농축 액체세제 2.5L x 4개 세탁세제 총10000ml', '[구달]청귤 비타C 잡티세럼 더블시너지 세트 (세럼 30ml2+크림 40ml2+아이크림 15ml)', '[Gfresh]오동통 손질 가자미 150-200g 10미 특품', '단팥빵 1박스(12개)/군산맛집/오남매빵집/쿠폰가26010', '아오리 보다 맛있는 썸머킹 4.5KG 한입사과 24~30과 내외', '[메트로시티]22% 메트로시티 여성 7/23 1DAYS 23SS 시즌오프 추가', '[산과들에]다크초콜릿아몬드20낱봉 +10봉더', '[위닉스]공식인증점)위닉스 17L제습기 {DN3E170-LWK} 1등급 제습기 (빠른발송)', '치실 체험팩/이편한 어린이치실 80개입 x 1팩 (3세트구매시마다 본품1개 반복증정)', '[한예지]한예지 볼륨앤소프트 천연펄프 화장지 30롤 3팩 (가성비갑)', '[올반키친]올반 찰핫도그 80g X 30봉 (신세계푸드 중복쿠폰 할인)', '[지오다노]15%쿠폰 지오다노 SS 여름 PK티셔츠/셔츠/슬랙스 외', '래쉬가드 5종 풀세트 체형커버 빅사이즈 수영복 비치웨어', '[롯데칠성]펩시콜라 제로 210ml x 60캔 (30캔 2박스)', '[아이러브베베]아이러브베베아기물티슈 핑크100매캡형X20팩', '[에그머니](에그머니) 온라인게임상품권 5만원', '[샘표]샘표 양조간장 701 1.7L + 701 500ml', '[아토세이프]최종혜택가 14520원 아토세이프 귀찮아 습기제거제 520ml 24개입/제습제/장마철필수품', '[TBJ]20+10% TBJ S/S신상 파워세일 가성비 아이템 모음전', '[피코크]조선호텔 포기김치 8kg(신세계푸드 중복쿠폰 할인)', '(영등포) 씨랄라 워터파크 종일권오후권(~08.20)', '[벨롭]밸롭 아쿠아슈즈/워터슈즈/래쉬가드/수영복/비치웨어/여성/남성/아동/키즈 모음전', '[동원에프앤비]동원 라이트 스탠다드 참치 150g 원터치 10개', '[고려은단]비타민C 1000 600정 X 1개 (20개월분)', '첫 출하 여름의 왕 썸머킹 사과 중소과 2.5kg (12~15과)', '상상의집 보드게임 모음전 와당탕 조선 임진왜란 독립운동 대항해 관용어', '[아이리스코리아]아이리스 스타일 행거 옷걸이 건조대 HKM-640', '[아디다스키즈](광주신세계)[adidas kids] 아디다스키즈 반팔반바지 세트 균일가 (IB8663IB9894IB8664)', '[올리비아로렌]올리비아로렌 10%쿠폰 실시간BEST 블라우스/원피스외', '코코비 여름클리어런스 5900원 인기폭발 루즈핏 상하복 티셔츠 팬츠 원피스 등원룩 데일리룩', '[매일유업]매일 소화가 잘되는 멸균우유 190ml 48팩', '(온더보더 금액권) 모바일 5만원권', '(10%+사은품) 하이나미 6900/8900 균일가 재고SALE 50종 ((쿠폰가 : 6930원/24시간)) 파이브 보이즈 반팔', '[코코도르]디퓨저 리필액 500ml X 2개 + 와이어병 + 스틱10P 증정', '[CJ 비비고]구워나온 생선구이 16팩(순살 고등어 10팩+ 순살 삼치 4팩 +갈치구이 2팩)', '[구글](GOOGLE) [Google 코리아 공식판매점] 구글 크롬캐스트 4세대 Google TV 4K 스마트폰 미러링 미라캐스트...', '[벨라오로라]벨라오로라 바이오텐 SPF50+ 자외선차단 기미 선크림 50ml', '[베베앙(물티슈)]베베앙 아기물티슈 시그니처플러스 캡형 100매 10팩', '[반하나]반하나 75gsm 블랙은 물티슈 70매 10팩 / 75평량 엠보싱 캡형', '포슬포슬 분이나는 두백감자 햇 감자 2kg(특) (쿠폰가 7020원)', '[파스퇴르]파스퇴르 무항생제 바른목장우유 190mL48팩', '[동원에프앤비]동원 자연산골뱅이 300g x 5개 +제로음료6병 랜덤증정', '[숨37˚](신세계강남점)[타임딜]시크릿 에센스 45ml 기획세트', '[입큰]입큰 12.5 퍼퓸 파우더 썬팩트 (본품)+사은품증정 /SPF50+ PA+++자외선차단', '[농심]백산수 무라벨 2L 24병 /생수전문배송', '[동원에프앤비]라이트스탠다드참치 85g x7캔 +고추참치 85g x 7캔 +제로음료6병 랜덤증정', '토니모리 수분앰플 7700원+썸머 COOL세일 UPTO 79%', '[오아로]오아로 쉬폰 원피스 2종', '[화인바이오]지리산수 블루 2L 24병 /생수전문배송', '[르젠]르젠 앱연동 스마트 BLDC 리모컨 선풍기 LZEF-DC02', '(깨비농원)고당도 하우스귤 2.5kg 로얄과(S-M)', '[과일나라]진주펄 염색약 3개+사은품 / 12종 컬러 염색 새치 탈색약 / 8900원 단하루 행사', '[엘라스틴]엘라스틴 실크리페어 베이비파우더 샴푸 550ml 4개', '착한떡 제주해풍 쑥개떡 1kg+1kg 총 2kg / 개별포장 떡', '[스파클]스파클생수 2L 30병 (도착보장/무라벨생수)', '[아침농산]2022년 햅쌀 농부의아침 쌀10kg 백미 상등급', '[맥심]맥심 모카골드 커피믹스 400T', '[대상 웰라이프]뉴케어 구수한맛 200ml x 30팩 /균형영양식 가장 친숙한 맛 누룽지맛 식사대용식 환자영양식', '[올반키친]올반 크런치 찰 핫도그 75gx30봉(신세계푸드 중복쿠폰 할인)', '[풀무원](20%중복할인) 풀무원 스팀쿡 에어프라이어 올스텐 10.5L PSA-W1000 (주말특가 7/21~23)', '쉐프컬렉션 배소불고기 양념육 200g x 6팩(신세계푸드 중복쿠폰 할인)', '1+1+1 미니 포켓 5단 우산 UV차단 초경량 초소형 암막 우산 여름 장마', '20% 페이지플린 여름신상 BEST 특가 모음', '[피죤]액체세제 대용량 액츠 수퍼클린 찌든때 5.7L 겸용 +증정', '[제스프리]골드키위 슈퍼점보 스페셜선물 3.1kg 내외 박스포장 이중포장', '(사회평론) 용선생 15분 한국사/세계사 독해 시리즈 선택구매', '[베베숲]NEW 베베숲 프라임 70매 캡 20팩 단독런칭', '[매일유업]상하목장 유기농 멸균우유 125ml x 48팩', '[구글플레이]기프트코드 1만원 / 구글 기프트카드', '[버거킹](버거킹) 통새우와퍼+와퍼주니어+콜라R+콜라R', '최상급 프리미엄 초신선 아보카도 10입(개당180g내외)', '(마미레시피) 마미레시피 들깨 기미미백크림 50g (2개 구매 시 골드발비누 추가 증정 )', '대전 엑스포 아쿠아리움 입장권(6/1~)/대전 신세계 백화점/아이랑/가볼만한곳/실내데이트/데이트', '폴로 랄프로렌 로고 반팔 티셔츠 남녀공용 클래식핏 택 1', '공구/ 숨은그림찾기 시리즈 골라담기', '(놀이대전) 천안 오션어드벤처 미들/하이/골드시즌 1인 종일권 (주중.주말 공통)', '[구글플레이]기프트코드 20만원 / 구글 기프트카드', '(쌀가게) (대전신세계)[주문폭증/순차출고] 쌀가게 수향미 (특등급) 10kg', '[리베레츠](쿠폰가26910원/장당6727원))베이직 오가닉 반팔 니트 4종세트 브이넥 코튼 홈쇼핑 빅사이즈 여성의류', '[소다스쿨]베이킹소다 특대용량 10kg /5kg 2개 / 여러가지 용도', '[고등어밥상]가시제거연구소 본사운영 가자미밥상 650g+650g 순살가자미 가시없는가자미', '[아디다스키즈](신세계본점)[아디다스키즈]인펀트세트 여름상품 특가', '벨라오로라1 100 스페인직수입 기미케어 썬크림 6병', '네파 여름휴가 준비 BEST ITEM 래쉬가드/냉감소재/반팔/반바지/팬츠 50종', '넥쿨러1+1 남여양말세트20컬레 쿨토시 20컬레9900원 팔튜브 모자 우산 1+1 티메이', '아동/성인 여름샌들 아쿠아슈즈 남녀캐주얼화 학생용실내화', '[네파](대구신세계)남녀공용 초경량 가볍고 쿠셔닝 좋은 데일리 워킹화 알토스 알리페 7I17664 7GC7642', '최고급 소등심 구이용/스테이크용 500g', '찬들마루 국내산 쫄깃 담백한 소문난 뽕잎 편육 200g x 3', '[제주삼다수]제주삼다수 무라벨 500ml 40병 /생수전문배송', '[순수크린]순수크린 과탄산소다 5kg 버킷+스푼1개외 베이킹 모음전', '[롯데햄]롯데 의성마늘프랑크x6개+녹찐치즈x6개+매콤땡초x6개', '[비지트인뉴욕]20%쿠폰 숲/비지트인뉴욕 여름 클리어런스 모음2 티셔츠/원피스', '[신세계푸드]신세계푸드 직수입 워싱턴 생체리 10Row 1.5kg', '[피자헛](피자헛) 수퍼슈프림 오리지널L + 콘소메 팝콘치킨 + 콜라 1.25L', '[공식파트너] 위닉스 뽀송 제습기 10L DXAE100-JWK', '[동원에프앤비]리챔 오리지널 200g 10캔', '[어니스트초이스]통삼겹살 2kg 슬라이스 4등분 선택가능 돼지고기 고기 구이 보쌈', '[LG전자]LG전자 휘센 제습기 DQ132PWXC 무료배송', '[스타벅스]스타벅스 더블샷 에스프레소 앤크림 200ml 1박스 36개', '[크록스]크록스 남녀캐주얼화 학생용실내화 사무용슬리퍼 바야밴드 크록밴드 라이트라이드', '여자 반팔 얇은 긴팔 속건조 골프 티셔츠', '[슈퍼카미트]남녀공용 푹신말랑 소프트 폼 쿠션 리커버리 클로그 샌들 AQS77', '시크루즈/10%/원피스/상하세트/점프슈트/가디건/스커트/팬츠/빅사이즈/데일리룩/루즈핏', '상큼청량 무드 한가득- 클리오 티 에이드 컬렉션 출시 NEW/BEST ~50%', '[농협안심한우]쿠폰23440원) 1등급 농협 안심 한우 국거리 덩어리 or 불고기 500g+500g 냉장 암소 / 2세트 주문시 무료배송', '10%쿠폰 (1+1) 남녀공용 스티치 5부 트레이닝 팬츠', '[아이리스코리아]아이리스 뚜껑형 단단한 팬트리 정리함 리빙박스 틈새 수납함 중형 4개 세트', '[농심]신라면+튀김우동+새우탕+오짬뽕 6입4개(총24개)', '[다우니]다우니 초고농축 섬유유연제 엑스퍼트 실내건조 1L 3개', '[테크]테크 베이킹구연산 액체세제 드럼 1.8Lx4', '[정옥]정옥 섬진강 재첩국 300g 5팩 국내산 섬진강 재첩', '[나이키골프]나이키 남여공용볼캡 골프모자 4종 헤리티지86 레거시91', '[샐리/티뷰] S/S베스트 티셔츠/원피스/팬츠 외 50종 택1 (FFI3B-CPT024_B)', '[버거킹](버거킹) 와퍼+불고기와퍼주니어+콜라R+콜라R', '[리엔]리엔 흑모비책 골드 흑갈색 90g 4개', '[TS티마]여름마스크 100매 TS 레모나 위가드 스카이슘 새부리형 중형 대형 KF94 쿨마스크 모음전', '[미래생활]순수PURE천연펄프 25m 30롤 x 3팩 휴지', '이맛쌀 10kg_상등급', '[스파클]스파클생수 500ml 100병 (도착보장/무라벨생수)', '[요즘에]파격할인(쿠폰가 16920원)여름세일 편한 쿨링스판/여름청바지 판매1위/와이드 쿨맥스라이트데님', '1+1 늘어나는 벨트 남여공용 캐쥬얼 데일리', '[카멜마운트]카멜마운트 이동식 모니터 티비 TV 스탠드 가정용 매장용 광고용 화이트 SMB32W', '[오뚜기]오뚜기 맛있는 밥 210g 12입 X2박스 / 총24개 / 오뚜기 흰밥', '[햇살드리(양곡)]수향미 골든퀸 수향미 10kg 단일품종 상등급', '[대우](혜택가 3.5만원) 2023년형 대우 3단 높이조절 리모컨 34cm형 써큘레이터 선풍기 / DEF-KC3040 서큘레이터', '[보성농협]2022년 햅쌀 보성다향미 쌀20kg 상등급 백미 당일도정 쌀유목민정착쌀', '[농심]신라면 5입X8개 총40개']\n"
     ]
    }
   ],
   "source": [
    "print(title_list)"
   ]
  },
  {
   "cell_type": "markdown",
   "id": "4a3d6591",
   "metadata": {},
   "source": [
    "# selenium 실행하고 상품명, 가격, 별점 정보 저장"
   ]
  },
  {
   "cell_type": "code",
   "execution_count": 8,
   "id": "0212841f",
   "metadata": {},
   "outputs": [],
   "source": [
    "from selenium import webdriver\n",
    "from selenium.webdriver.common.by import By\n",
    "from selenium.webdriver.common.keys import Keys\n",
    "from selenium.webdriver.chrome.service import Service\n",
    "\n",
    "title_list = list()\n",
    "price_list = list()\n",
    "star_list = list()\n",
    "\n",
    "# ChromeDriver의 경로를 지정하고, WebDriver 인스턴스를 생성합니다.\n",
    "driver = webdriver.Chrome()\n",
    "\n",
    "# 지마켓의 메인 페이지를 엽니다.\n",
    "driver.get('https://www.gmarket.co.kr')\n",
    "\n",
    "# 검색어를 입력할 수 있는 input 요소를 찾습니다.\n",
    "search_box = driver.find_element(By.NAME, 'keyword')\n",
    "\n",
    "# 검색어를 입력하고, Enter 키를 눌러 검색을 실행합니다.\n",
    "search_box.send_keys('손풍기')\n",
    "search_box.send_keys(Keys.RETURN)\n",
    "\n",
    "# 결과 페이지가 로드될 때까지 잠시 기다립니다.\n",
    "driver.implicitly_wait(3)\n",
    "\n",
    "# 정보를 담은 박스를 선택합니다.\n",
    "search_results = driver.find_elements(By.CSS_SELECTOR, 'div.box__information')\n",
    "\n",
    "for result in search_results:\n",
    "    #만족도가 없을 수도 있기에 try except문을 활용\n",
    "    try:\n",
    "        title_element = result.find_element(By.CSS_SELECTOR, 'span.text__item')\n",
    "        price_element = result.find_element(By.CSS_SELECTOR, 'div.box__price-seller > strong')\n",
    "        star_element = result.find_element(By.CSS_SELECTOR, 'span.image__awards-points > span')\n",
    "        title_list.append(title_element.text)\n",
    "        price_list.append(price_element.text)\n",
    "        star_list.append(star_element.text)\n",
    "    except:\n",
    "        pass\n",
    "    \n",
    "# 작업이 끝나면 WebDriver를 종료하여 브라우저 창을 닫습니다.\n",
    "driver.quit()"
   ]
  },
  {
   "cell_type": "markdown",
   "id": "d5562181",
   "metadata": {},
   "source": [
    "# 데이터 프레임으로 저장하고 Excel 파일로 저장하기"
   ]
  },
  {
   "cell_type": "code",
   "execution_count": 9,
   "id": "6a7f288f",
   "metadata": {},
   "outputs": [],
   "source": [
    "import pandas as pd\n",
    "\n",
    "gmarket_selenium_df = pd.DataFrame([title_list, price_list, star_list]).T"
   ]
  },
  {
   "cell_type": "code",
   "execution_count": 10,
   "id": "7a392265",
   "metadata": {},
   "outputs": [],
   "source": [
    "gmarket_selenium_df.columns = ['상품명', '판매가', '만족도']"
   ]
  },
  {
   "cell_type": "code",
   "execution_count": 11,
   "id": "176e224f",
   "metadata": {},
   "outputs": [
    {
     "data": {
      "text/html": [
       "<div>\n",
       "<style scoped>\n",
       "    .dataframe tbody tr th:only-of-type {\n",
       "        vertical-align: middle;\n",
       "    }\n",
       "\n",
       "    .dataframe tbody tr th {\n",
       "        vertical-align: top;\n",
       "    }\n",
       "\n",
       "    .dataframe thead th {\n",
       "        text-align: right;\n",
       "    }\n",
       "</style>\n",
       "<table border=\"1\" class=\"dataframe\">\n",
       "  <thead>\n",
       "    <tr style=\"text-align: right;\">\n",
       "      <th></th>\n",
       "      <th>상품명</th>\n",
       "      <th>판매가</th>\n",
       "      <th>만족도</th>\n",
       "    </tr>\n",
       "  </thead>\n",
       "  <tbody>\n",
       "    <tr>\n",
       "      <th>0</th>\n",
       "      <td>초경량 1+1 미소양품 프리미엄 소형 미니 휴대용 핸디 손 선풍기</td>\n",
       "      <td>29,900</td>\n",
       "      <td></td>\n",
       "    </tr>\n",
       "    <tr>\n",
       "      <th>1</th>\n",
       "      <td>코어제트 휴대용접이식선풍기 무소음 목걸이형 화이트</td>\n",
       "      <td>13,900</td>\n",
       "      <td></td>\n",
       "    </tr>\n",
       "    <tr>\n",
       "      <th>2</th>\n",
       "      <td>1+1 초특가 무선 선풍기 휴대용 손 선풍기 미니 손풍기 힐템</td>\n",
       "      <td>34,900</td>\n",
       "      <td></td>\n",
       "    </tr>\n",
       "    <tr>\n",
       "      <th>3</th>\n",
       "      <td>코어팬시 미니 휴대용 선풍기 무소음 목걸이형 그린 4800mAh</td>\n",
       "      <td>22,680</td>\n",
       "      <td></td>\n",
       "    </tr>\n",
       "    <tr>\n",
       "      <th>4</th>\n",
       "      <td>휴대용 아이스 냉각 미니 손선풍기 샌드베이지</td>\n",
       "      <td>29,900</td>\n",
       "      <td></td>\n",
       "    </tr>\n",
       "    <tr>\n",
       "      <th>...</th>\n",
       "      <td>...</td>\n",
       "      <td>...</td>\n",
       "      <td>...</td>\n",
       "    </tr>\n",
       "    <tr>\n",
       "      <th>96</th>\n",
       "      <td>휴대용 넥밴드 선풍기 충전식 넥선풍기 A206 그린</td>\n",
       "      <td>22,500</td>\n",
       "      <td>만족도 66% 입니다.</td>\n",
       "    </tr>\n",
       "    <tr>\n",
       "      <th>97</th>\n",
       "      <td>엑스 포켓 넥밴드 목걸이 휴대용선풍기 SX-NF21W</td>\n",
       "      <td>24,800</td>\n",
       "      <td>만족도 100% 입니다.</td>\n",
       "    </tr>\n",
       "    <tr>\n",
       "      <th>98</th>\n",
       "      <td>신일 12인치 무선 선풍기 SIF-12WL (BLDC조용하고 파워풀한 모터 선풍기)...</td>\n",
       "      <td>179,000</td>\n",
       "      <td>만족도 80% 입니다.</td>\n",
       "    </tr>\n",
       "    <tr>\n",
       "      <th>99</th>\n",
       "      <td>12인치 휴대용 탁상용 선풍기 리모컨 에어써큘레이터 UMF-1713CR</td>\n",
       "      <td>42,800</td>\n",
       "      <td>만족도 74% 입니다.</td>\n",
       "    </tr>\n",
       "    <tr>\n",
       "      <th>100</th>\n",
       "      <td>휴대용 넥밴드 선풍기 USB 충전식 넥선풍기 F41 그린</td>\n",
       "      <td>26,500</td>\n",
       "      <td>만족도 96% 입니다.</td>\n",
       "    </tr>\n",
       "  </tbody>\n",
       "</table>\n",
       "<p>101 rows × 3 columns</p>\n",
       "</div>"
      ],
      "text/plain": [
       "                                                   상품명      판매가            만족도\n",
       "0                 초경량 1+1 미소양품 프리미엄 소형 미니 휴대용 핸디 손 선풍기   29,900               \n",
       "1                          코어제트 휴대용접이식선풍기 무소음 목걸이형 화이트   13,900               \n",
       "2                   1+1 초특가 무선 선풍기 휴대용 손 선풍기 미니 손풍기 힐템   34,900               \n",
       "3                  코어팬시 미니 휴대용 선풍기 무소음 목걸이형 그린 4800mAh   22,680               \n",
       "4                             휴대용 아이스 냉각 미니 손선풍기 샌드베이지   29,900               \n",
       "..                                                 ...      ...            ...\n",
       "96                        휴대용 넥밴드 선풍기 충전식 넥선풍기 A206 그린   22,500   만족도 66% 입니다.\n",
       "97                       엑스 포켓 넥밴드 목걸이 휴대용선풍기 SX-NF21W   24,800  만족도 100% 입니다.\n",
       "98   신일 12인치 무선 선풍기 SIF-12WL (BLDC조용하고 파워풀한 모터 선풍기)...  179,000   만족도 80% 입니다.\n",
       "99             12인치 휴대용 탁상용 선풍기 리모컨 에어써큘레이터 UMF-1713CR   42,800   만족도 74% 입니다.\n",
       "100                    휴대용 넥밴드 선풍기 USB 충전식 넥선풍기 F41 그린   26,500   만족도 96% 입니다.\n",
       "\n",
       "[101 rows x 3 columns]"
      ]
     },
     "execution_count": 11,
     "metadata": {},
     "output_type": "execute_result"
    }
   ],
   "source": [
    "gmarket_selenium_df"
   ]
  },
  {
   "cell_type": "code",
   "execution_count": 12,
   "id": "ec181364",
   "metadata": {},
   "outputs": [],
   "source": [
    "def extract_comma(x):\n",
    "    price = int(x.replace(\",\", \"\")) #replace로 쉼표까지 제거하고 int로 변환\n",
    "    return price"
   ]
  },
  {
   "cell_type": "code",
   "execution_count": 13,
   "id": "9b7d9fb6",
   "metadata": {},
   "outputs": [],
   "source": [
    "gmarket_selenium_df['판매가'] = gmarket_selenium_df['판매가'].apply(extract_comma)"
   ]
  },
  {
   "cell_type": "code",
   "execution_count": 14,
   "id": "9164b40b",
   "metadata": {},
   "outputs": [],
   "source": [
    "import re\n",
    "\n",
    "def extract_stars(x):\n",
    "    ext = re.findall(\"\\d+%\", x)\n",
    "    #데이터가 빈 경우가 있으므로 try, except문 사용\n",
    "    try:\n",
    "        stars = int(ext[0].replace('%', \"\")) #%를 제거한 뒤 int로 변환\n",
    "    except:\n",
    "        pass\n",
    "    return stars if ext else None #데이터가 있을 경우 stars를 반환, 아닐 경우 None을 반환"
   ]
  },
  {
   "cell_type": "code",
   "execution_count": 15,
   "id": "230d91f7",
   "metadata": {},
   "outputs": [],
   "source": [
    "gmarket_selenium_df['만족도'] = gmarket_selenium_df['만족도'].apply(extract_stars)"
   ]
  },
  {
   "cell_type": "code",
   "execution_count": 16,
   "id": "a25fd9f2",
   "metadata": {},
   "outputs": [],
   "source": [
    "gmarket_selenium_df = gmarket_selenium_df.dropna().reset_index().iloc[:, 1:]"
   ]
  },
  {
   "cell_type": "code",
   "execution_count": 17,
   "id": "7c58aa80",
   "metadata": {},
   "outputs": [],
   "source": [
    "gmarket_selenium_df.to_excel('gmarket_handfan_stars.xlsx')"
   ]
  },
  {
   "cell_type": "code",
   "execution_count": 18,
   "id": "891dda52",
   "metadata": {},
   "outputs": [
    {
     "data": {
      "text/html": [
       "<div>\n",
       "<style scoped>\n",
       "    .dataframe tbody tr th:only-of-type {\n",
       "        vertical-align: middle;\n",
       "    }\n",
       "\n",
       "    .dataframe tbody tr th {\n",
       "        vertical-align: top;\n",
       "    }\n",
       "\n",
       "    .dataframe thead th {\n",
       "        text-align: right;\n",
       "    }\n",
       "</style>\n",
       "<table border=\"1\" class=\"dataframe\">\n",
       "  <thead>\n",
       "    <tr style=\"text-align: right;\">\n",
       "      <th></th>\n",
       "      <th>상품명</th>\n",
       "      <th>판매가</th>\n",
       "      <th>만족도</th>\n",
       "    </tr>\n",
       "  </thead>\n",
       "  <tbody>\n",
       "    <tr>\n",
       "      <th>0</th>\n",
       "      <td>슈틸루스터 에어컨 선풍기 올리브 season2 ST-AF200</td>\n",
       "      <td>45900</td>\n",
       "      <td>76.0</td>\n",
       "    </tr>\n",
       "    <tr>\n",
       "      <th>1</th>\n",
       "      <td>비즈 펠티어 냉각판 에어컨 휴대용 손선풍기 BZ-FH40 대용량배터리 4000mAh</td>\n",
       "      <td>29900</td>\n",
       "      <td>90.0</td>\n",
       "    </tr>\n",
       "    <tr>\n",
       "      <th>2</th>\n",
       "      <td>이지마켓 초강력미니선풍기 미니 손선풍기 에어컨손풍기 얼음이 내손안에 핸디써큘레이터</td>\n",
       "      <td>29900</td>\n",
       "      <td>94.0</td>\n",
       "    </tr>\n",
       "    <tr>\n",
       "      <th>3</th>\n",
       "      <td>휴대용 냉각 선풍기 쿨링 핸디팬 다크그레이</td>\n",
       "      <td>27900</td>\n",
       "      <td>88.0</td>\n",
       "    </tr>\n",
       "    <tr>\n",
       "      <th>4</th>\n",
       "      <td>LOOC 룩 휴대용 선풍기 미니 손 핸디형 손풍기 - 블랙</td>\n",
       "      <td>15900</td>\n",
       "      <td>94.0</td>\n",
       "    </tr>\n",
       "    <tr>\n",
       "      <th>...</th>\n",
       "      <td>...</td>\n",
       "      <td>...</td>\n",
       "      <td>...</td>\n",
       "    </tr>\n",
       "    <tr>\n",
       "      <th>91</th>\n",
       "      <td>휴대용 넥밴드 선풍기 충전식 넥선풍기 A206 그린</td>\n",
       "      <td>22500</td>\n",
       "      <td>66.0</td>\n",
       "    </tr>\n",
       "    <tr>\n",
       "      <th>92</th>\n",
       "      <td>엑스 포켓 넥밴드 목걸이 휴대용선풍기 SX-NF21W</td>\n",
       "      <td>24800</td>\n",
       "      <td>100.0</td>\n",
       "    </tr>\n",
       "    <tr>\n",
       "      <th>93</th>\n",
       "      <td>신일 12인치 무선 선풍기 SIF-12WL (BLDC조용하고 파워풀한 모터 선풍기)...</td>\n",
       "      <td>179000</td>\n",
       "      <td>80.0</td>\n",
       "    </tr>\n",
       "    <tr>\n",
       "      <th>94</th>\n",
       "      <td>12인치 휴대용 탁상용 선풍기 리모컨 에어써큘레이터 UMF-1713CR</td>\n",
       "      <td>42800</td>\n",
       "      <td>74.0</td>\n",
       "    </tr>\n",
       "    <tr>\n",
       "      <th>95</th>\n",
       "      <td>휴대용 넥밴드 선풍기 USB 충전식 넥선풍기 F41 그린</td>\n",
       "      <td>26500</td>\n",
       "      <td>96.0</td>\n",
       "    </tr>\n",
       "  </tbody>\n",
       "</table>\n",
       "<p>96 rows × 3 columns</p>\n",
       "</div>"
      ],
      "text/plain": [
       "                                                  상품명     판매가    만족도\n",
       "0                  슈틸루스터 에어컨 선풍기 올리브 season2 ST-AF200   45900   76.0\n",
       "1      비즈 펠티어 냉각판 에어컨 휴대용 손선풍기 BZ-FH40 대용량배터리 4000mAh   29900   90.0\n",
       "2       이지마켓 초강력미니선풍기 미니 손선풍기 에어컨손풍기 얼음이 내손안에 핸디써큘레이터   29900   94.0\n",
       "3                             휴대용 냉각 선풍기 쿨링 핸디팬 다크그레이   27900   88.0\n",
       "4                    LOOC 룩 휴대용 선풍기 미니 손 핸디형 손풍기 - 블랙   15900   94.0\n",
       "..                                                ...     ...    ...\n",
       "91                       휴대용 넥밴드 선풍기 충전식 넥선풍기 A206 그린   22500   66.0\n",
       "92                      엑스 포켓 넥밴드 목걸이 휴대용선풍기 SX-NF21W   24800  100.0\n",
       "93  신일 12인치 무선 선풍기 SIF-12WL (BLDC조용하고 파워풀한 모터 선풍기)...  179000   80.0\n",
       "94            12인치 휴대용 탁상용 선풍기 리모컨 에어써큘레이터 UMF-1713CR   42800   74.0\n",
       "95                    휴대용 넥밴드 선풍기 USB 충전식 넥선풍기 F41 그린   26500   96.0\n",
       "\n",
       "[96 rows x 3 columns]"
      ]
     },
     "execution_count": 18,
     "metadata": {},
     "output_type": "execute_result"
    }
   ],
   "source": [
    "gmarket_selenium_df"
   ]
  },
  {
   "cell_type": "markdown",
   "id": "991f806a",
   "metadata": {},
   "source": [
    "# 과제 (100점)"
   ]
  },
  {
   "cell_type": "markdown",
   "id": "f2f4a5c1",
   "metadata": {},
   "source": [
    "#### 본인이 관심 있는 키워드에 대해서 해당 크롤링을 반복해서 수행하시오. 데이터를 수집하여 excel 파일로 저장하시오."
   ]
  },
  {
   "cell_type": "code",
   "execution_count": 1,
   "id": "33c4a281",
   "metadata": {},
   "outputs": [],
   "source": [
    "#1. 필요한 라이브러리 import 하기 (10점)\n",
    "import pandas as pd\n",
    "from selenium import webdriver\n",
    "from selenium.webdriver.common.by import By\n",
    "from selenium.webdriver.common.keys import Keys\n",
    "from selenium.webdriver.chrome.service import Service"
   ]
  },
  {
   "cell_type": "code",
   "execution_count": 2,
   "id": "895a50b8",
   "metadata": {},
   "outputs": [],
   "source": [
    "title_list = list()\n",
    "price_list = list()\n",
    "star_list = list()\n",
    "\n",
    "driver = webdriver.Chrome()\n",
    "\n",
    "driver.get('https://www.gmarket.co.kr')\n",
    "\n",
    "search_box = driver.find_element(By.NAME, 'keyword')\n",
    "\n",
    "search_box.send_keys('골프장갑')\n",
    "search_box.send_keys(Keys.RETURN)\n",
    "\n",
    "# 결과 페이지가 로드될 때까지 잠시 기다립니다.\n",
    "driver.implicitly_wait(3)\n",
    "\n",
    "# 정보를 담은 박스를 선택합니다.\n",
    "search_results = driver.find_elements(By.CSS_SELECTOR, 'div.box__information')\n",
    "\n",
    "for result in search_results:\n",
    "    #만족도가 없을 수도 있기에 try except문을 활용\n",
    "    try:\n",
    "        title_element = result.find_element(By.CSS_SELECTOR, 'span.text__item')\n",
    "        price_element = result.find_element(By.CSS_SELECTOR, 'div.box__price-seller > strong')\n",
    "        star_element = result.find_element(By.CSS_SELECTOR, 'span.image__awards-points > span')\n",
    "        title_list.append(title_element.text)\n",
    "        price_list.append(price_element.text)\n",
    "        star_list.append(star_element.text)\n",
    "    except:\n",
    "        pass\n",
    "    \n",
    "# 작업이 끝나면 WebDriver를 종료하여 브라우저 창을 닫습니다.\n",
    "driver.quit()"
   ]
  },
  {
   "cell_type": "code",
   "execution_count": 3,
   "id": "99c586a5",
   "metadata": {},
   "outputs": [],
   "source": [
    "#3. 적절히 데이터 전처리를 하여 DataFrame 객체로 만들고 Excel 파일로 저장하기 (50점)\n",
    "#이때, DataFrame의 열은 \"상품명, 판매가, 만족도\"로 구성되어야 함.\n",
    "\n",
    "gmarket_selenium_df = pd.DataFrame([title_list, price_list, star_list]).T\n",
    "gmarket_selenium_df.columns = ['상품명', '판매가', '만족도']"
   ]
  },
  {
   "cell_type": "code",
   "execution_count": 4,
   "id": "7fa0be18",
   "metadata": {},
   "outputs": [
    {
     "data": {
      "text/html": [
       "<div>\n",
       "<style scoped>\n",
       "    .dataframe tbody tr th:only-of-type {\n",
       "        vertical-align: middle;\n",
       "    }\n",
       "\n",
       "    .dataframe tbody tr th {\n",
       "        vertical-align: top;\n",
       "    }\n",
       "\n",
       "    .dataframe thead th {\n",
       "        text-align: right;\n",
       "    }\n",
       "</style>\n",
       "<table border=\"1\" class=\"dataframe\">\n",
       "  <thead>\n",
       "    <tr style=\"text-align: right;\">\n",
       "      <th></th>\n",
       "      <th>상품명</th>\n",
       "      <th>판매가</th>\n",
       "      <th>만족도</th>\n",
       "    </tr>\n",
       "  </thead>\n",
       "  <tbody>\n",
       "    <tr>\n",
       "      <th>0</th>\n",
       "      <td>에어홀 반양피 골프장갑 남성용 4장모음전 21~26호</td>\n",
       "      <td>13,200</td>\n",
       "      <td></td>\n",
       "    </tr>\n",
       "    <tr>\n",
       "      <th>1</th>\n",
       "      <td>천연양피 골프장갑 반양피 4장 왼손/오른손/양손 남여</td>\n",
       "      <td>20,000</td>\n",
       "      <td></td>\n",
       "    </tr>\n",
       "    <tr>\n",
       "      <th>2</th>\n",
       "      <td>원단이다른 반양피 골프장갑 4장 왼손/양손/오른손</td>\n",
       "      <td>19,900</td>\n",
       "      <td></td>\n",
       "    </tr>\n",
       "    <tr>\n",
       "      <th>3</th>\n",
       "      <td>금강골프 필드앤 골프장갑 6가지색상 칼라장갑 천연양피 이중덧뎀 남성왼손 여성양손 땀...</td>\n",
       "      <td>4,300</td>\n",
       "      <td></td>\n",
       "    </tr>\n",
       "    <tr>\n",
       "      <th>4</th>\n",
       "      <td>프리미엄 올양피 골프장갑 남성용 (좌/우 1장선택)</td>\n",
       "      <td>5,750</td>\n",
       "      <td>만족도 94% 입니다.</td>\n",
       "    </tr>\n",
       "    <tr>\n",
       "      <th>...</th>\n",
       "      <td>...</td>\n",
       "      <td>...</td>\n",
       "      <td>...</td>\n",
       "    </tr>\n",
       "    <tr>\n",
       "      <th>98</th>\n",
       "      <td>양피 방수 골프장갑</td>\n",
       "      <td>7,500</td>\n",
       "      <td>만족도 92% 입니다.</td>\n",
       "    </tr>\n",
       "    <tr>\n",
       "      <th>99</th>\n",
       "      <td>토바하은합피 왼손장갑3장 남성 연습용 3장(1set)</td>\n",
       "      <td>12,900</td>\n",
       "      <td>만족도 100% 입니다.</td>\n",
       "    </tr>\n",
       "    <tr>\n",
       "      <th>100</th>\n",
       "      <td>SPIDER FEEL/스파이더필 반양피장갑/남/왼손/1세트3장</td>\n",
       "      <td>19,500</td>\n",
       "      <td>만족도 100% 입니다.</td>\n",
       "    </tr>\n",
       "    <tr>\n",
       "      <th>101</th>\n",
       "      <td>반양피 콤비 골프장갑</td>\n",
       "      <td>5,000</td>\n",
       "      <td>만족도 98% 입니다.</td>\n",
       "    </tr>\n",
       "    <tr>\n",
       "      <th>102</th>\n",
       "      <td>프리미엄 투어 남자 골프장갑</td>\n",
       "      <td>10,000</td>\n",
       "      <td>만족도 92% 입니다.</td>\n",
       "    </tr>\n",
       "  </tbody>\n",
       "</table>\n",
       "<p>103 rows × 3 columns</p>\n",
       "</div>"
      ],
      "text/plain": [
       "                                                   상품명     판매가            만족도\n",
       "0                        에어홀 반양피 골프장갑 남성용 4장모음전 21~26호  13,200               \n",
       "1                        천연양피 골프장갑 반양피 4장 왼손/오른손/양손 남여  20,000               \n",
       "2                          원단이다른 반양피 골프장갑 4장 왼손/양손/오른손  19,900               \n",
       "3    금강골프 필드앤 골프장갑 6가지색상 칼라장갑 천연양피 이중덧뎀 남성왼손 여성양손 땀...   4,300               \n",
       "4                         프리미엄 올양피 골프장갑 남성용 (좌/우 1장선택)   5,750   만족도 94% 입니다.\n",
       "..                                                 ...     ...            ...\n",
       "98                                          양피 방수 골프장갑   7,500   만족도 92% 입니다.\n",
       "99                       토바하은합피 왼손장갑3장 남성 연습용 3장(1set)  12,900  만족도 100% 입니다.\n",
       "100                 SPIDER FEEL/스파이더필 반양피장갑/남/왼손/1세트3장  19,500  만족도 100% 입니다.\n",
       "101                                        반양피 콤비 골프장갑   5,000   만족도 98% 입니다.\n",
       "102                                    프리미엄 투어 남자 골프장갑  10,000   만족도 92% 입니다.\n",
       "\n",
       "[103 rows x 3 columns]"
      ]
     },
     "execution_count": 4,
     "metadata": {},
     "output_type": "execute_result"
    }
   ],
   "source": [
    "gmarket_selenium_df"
   ]
  },
  {
   "cell_type": "code",
   "execution_count": 7,
   "id": "72e87abd",
   "metadata": {},
   "outputs": [],
   "source": [
    "import re\n",
    "\n",
    "def extract_stars(x):\n",
    "    ext = re.findall(\"\\d+%\", x)\n",
    "    try:\n",
    "        stars = int(ext[0].replace('%', \"\"))\n",
    "    except:\n",
    "        pass\n",
    "    return stars if ext else None"
   ]
  },
  {
   "cell_type": "code",
   "execution_count": 8,
   "id": "d41d6de3",
   "metadata": {},
   "outputs": [],
   "source": [
    "gmarket_selenium_df['만족도'] = gmarket_selenium_df['만족도'].apply(extract_stars)"
   ]
  },
  {
   "cell_type": "code",
   "execution_count": 9,
   "id": "b056f3b4",
   "metadata": {},
   "outputs": [],
   "source": [
    "gmarket_selenium_df = gmarket_selenium_df.dropna().reset_index().iloc[:, 1:]"
   ]
  },
  {
   "cell_type": "code",
   "execution_count": 10,
   "id": "47045428",
   "metadata": {},
   "outputs": [
    {
     "data": {
      "text/html": [
       "<div>\n",
       "<style scoped>\n",
       "    .dataframe tbody tr th:only-of-type {\n",
       "        vertical-align: middle;\n",
       "    }\n",
       "\n",
       "    .dataframe tbody tr th {\n",
       "        vertical-align: top;\n",
       "    }\n",
       "\n",
       "    .dataframe thead th {\n",
       "        text-align: right;\n",
       "    }\n",
       "</style>\n",
       "<table border=\"1\" class=\"dataframe\">\n",
       "  <thead>\n",
       "    <tr style=\"text-align: right;\">\n",
       "      <th></th>\n",
       "      <th>상품명</th>\n",
       "      <th>판매가</th>\n",
       "      <th>만족도</th>\n",
       "    </tr>\n",
       "  </thead>\n",
       "  <tbody>\n",
       "    <tr>\n",
       "      <th>0</th>\n",
       "      <td>프리미엄 올양피 골프장갑 남성용 (좌/우 1장선택)</td>\n",
       "      <td>5,750</td>\n",
       "      <td>94.0</td>\n",
       "    </tr>\n",
       "    <tr>\n",
       "      <th>1</th>\n",
       "      <td>카시야 남성용/여성용 골프장갑 4장세트</td>\n",
       "      <td>17,900</td>\n",
       "      <td>92.0</td>\n",
       "    </tr>\n",
       "    <tr>\n",
       "      <th>2</th>\n",
       "      <td>어베이브 스컬에디션 칼라 골프장갑</td>\n",
       "      <td>8,900</td>\n",
       "      <td>92.0</td>\n",
       "    </tr>\n",
       "    <tr>\n",
       "      <th>3</th>\n",
       "      <td>펜폴드 올양피 골프장갑 남성 왼손 2장 세트 필드용</td>\n",
       "      <td>15,900</td>\n",
       "      <td>88.0</td>\n",
       "    </tr>\n",
       "    <tr>\n",
       "      <th>4</th>\n",
       "      <td>누구나 합성피혁 골프 장갑 연습용 필드용 프리미엄 왼손 남성용 23호</td>\n",
       "      <td>14,900</td>\n",
       "      <td>100.0</td>\n",
       "    </tr>\n",
       "    <tr>\n",
       "      <th>...</th>\n",
       "      <td>...</td>\n",
       "      <td>...</td>\n",
       "      <td>...</td>\n",
       "    </tr>\n",
       "    <tr>\n",
       "      <th>94</th>\n",
       "      <td>양피 방수 골프장갑</td>\n",
       "      <td>7,500</td>\n",
       "      <td>92.0</td>\n",
       "    </tr>\n",
       "    <tr>\n",
       "      <th>95</th>\n",
       "      <td>토바하은합피 왼손장갑3장 남성 연습용 3장(1set)</td>\n",
       "      <td>12,900</td>\n",
       "      <td>100.0</td>\n",
       "    </tr>\n",
       "    <tr>\n",
       "      <th>96</th>\n",
       "      <td>SPIDER FEEL/스파이더필 반양피장갑/남/왼손/1세트3장</td>\n",
       "      <td>19,500</td>\n",
       "      <td>100.0</td>\n",
       "    </tr>\n",
       "    <tr>\n",
       "      <th>97</th>\n",
       "      <td>반양피 콤비 골프장갑</td>\n",
       "      <td>5,000</td>\n",
       "      <td>98.0</td>\n",
       "    </tr>\n",
       "    <tr>\n",
       "      <th>98</th>\n",
       "      <td>프리미엄 투어 남자 골프장갑</td>\n",
       "      <td>10,000</td>\n",
       "      <td>92.0</td>\n",
       "    </tr>\n",
       "  </tbody>\n",
       "</table>\n",
       "<p>99 rows × 3 columns</p>\n",
       "</div>"
      ],
      "text/plain": [
       "                                       상품명     판매가    만족도\n",
       "0             프리미엄 올양피 골프장갑 남성용 (좌/우 1장선택)   5,750   94.0\n",
       "1                    카시야 남성용/여성용 골프장갑 4장세트  17,900   92.0\n",
       "2                       어베이브 스컬에디션 칼라 골프장갑   8,900   92.0\n",
       "3             펜폴드 올양피 골프장갑 남성 왼손 2장 세트 필드용  15,900   88.0\n",
       "4   누구나 합성피혁 골프 장갑 연습용 필드용 프리미엄 왼손 남성용 23호  14,900  100.0\n",
       "..                                     ...     ...    ...\n",
       "94                              양피 방수 골프장갑   7,500   92.0\n",
       "95           토바하은합피 왼손장갑3장 남성 연습용 3장(1set)  12,900  100.0\n",
       "96      SPIDER FEEL/스파이더필 반양피장갑/남/왼손/1세트3장  19,500  100.0\n",
       "97                             반양피 콤비 골프장갑   5,000   98.0\n",
       "98                         프리미엄 투어 남자 골프장갑  10,000   92.0\n",
       "\n",
       "[99 rows x 3 columns]"
      ]
     },
     "execution_count": 10,
     "metadata": {},
     "output_type": "execute_result"
    }
   ],
   "source": [
    "gmarket_selenium_df"
   ]
  },
  {
   "cell_type": "code",
   "execution_count": 11,
   "id": "fbb7a64e",
   "metadata": {},
   "outputs": [],
   "source": [
    "gmarket_selenium_df.to_excel('gmarket_golfglove.xlsx')"
   ]
  },
  {
   "cell_type": "code",
   "execution_count": null,
   "id": "0d8bfcda",
   "metadata": {},
   "outputs": [],
   "source": []
  }
 ],
 "metadata": {
  "kernelspec": {
   "display_name": "Python 3 (ipykernel)",
   "language": "python",
   "name": "python3"
  },
  "language_info": {
   "codemirror_mode": {
    "name": "ipython",
    "version": 3
   },
   "file_extension": ".py",
   "mimetype": "text/x-python",
   "name": "python",
   "nbconvert_exporter": "python",
   "pygments_lexer": "ipython3",
   "version": "3.9.13"
  }
 },
 "nbformat": 4,
 "nbformat_minor": 5
}
