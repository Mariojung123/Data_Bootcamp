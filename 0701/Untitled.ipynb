{
 "cells": [
  {
   "cell_type": "markdown",
   "id": "81a28045",
   "metadata": {},
   "source": [
    "# 1. Series"
   ]
  },
  {
   "cell_type": "code",
   "execution_count": 1,
   "id": "813c11ac",
   "metadata": {},
   "outputs": [],
   "source": [
    "import numpy as np\n",
    "import pandas as pd"
   ]
  },
  {
   "cell_type": "markdown",
   "id": "58a4c9fa",
   "metadata": {},
   "source": [
    "## 1) Series 객체 생성"
   ]
  },
  {
   "cell_type": "code",
   "execution_count": 9,
   "id": "ec3b60a9",
   "metadata": {},
   "outputs": [
    {
     "data": {
      "text/plain": [
       "이름     피카츄\n",
       "속성      전기\n",
       "HP      35\n",
       "공격력     55\n",
       "방어력     40\n",
       "dtype: object"
      ]
     },
     "execution_count": 9,
     "metadata": {},
     "output_type": "execute_result"
    }
   ],
   "source": [
    "obj = pd.Series(['피카츄','전기', 35, 55, 40],\n",
    "               index = ['이름','속성','HP','공격력','방어력'])\n",
    "obj"
   ]
  },
  {
   "cell_type": "code",
   "execution_count": 10,
   "id": "a4eaeb6d",
   "metadata": {},
   "outputs": [
    {
     "data": {
      "text/plain": [
       "이름     피카츄\n",
       "속성      전기\n",
       "HP      35\n",
       "공격력     55\n",
       "방어력     40\n",
       "dtype: object"
      ]
     },
     "execution_count": 10,
     "metadata": {},
     "output_type": "execute_result"
    }
   ],
   "source": [
    "value = ('피카츄','전기',35,55,40)\n",
    "index_name = ('이름','속성','HP','공격력','방어력')\n",
    "obj = pd.Series(value,index = index_name)\n",
    "obj"
   ]
  },
  {
   "cell_type": "code",
   "execution_count": 11,
   "id": "8d22681d",
   "metadata": {},
   "outputs": [
    {
     "data": {
      "text/plain": [
       "이름     피카츄\n",
       "속성      전기\n",
       "HP      35\n",
       "공격력     55\n",
       "방어력     40\n",
       "dtype: object"
      ]
     },
     "execution_count": 11,
     "metadata": {},
     "output_type": "execute_result"
    }
   ],
   "source": [
    "poke = {'이름':'피카츄','속성':'전기','HP':35,'공격력':55,'방어력':40}\n",
    "obj = pd.Series(poke)\n",
    "obj"
   ]
  },
  {
   "cell_type": "markdown",
   "id": "480c3f8a",
   "metadata": {},
   "source": [
    "## 2) Series 속성 확인"
   ]
  },
  {
   "cell_type": "code",
   "execution_count": 12,
   "id": "9840921d",
   "metadata": {},
   "outputs": [
    {
     "data": {
      "text/plain": [
       "Index(['이름', '속성', 'HP', '공격력', '방어력'], dtype='object')"
      ]
     },
     "execution_count": 12,
     "metadata": {},
     "output_type": "execute_result"
    }
   ],
   "source": [
    "obj.index"
   ]
  },
  {
   "cell_type": "code",
   "execution_count": 13,
   "id": "1df8b4ce",
   "metadata": {},
   "outputs": [
    {
     "data": {
      "text/plain": [
       "array(['피카츄', '전기', 35, 55, 40], dtype=object)"
      ]
     },
     "execution_count": 13,
     "metadata": {},
     "output_type": "execute_result"
    }
   ],
   "source": [
    "obj.values"
   ]
  },
  {
   "cell_type": "code",
   "execution_count": 14,
   "id": "07a85b28",
   "metadata": {},
   "outputs": [
    {
     "data": {
      "text/plain": [
       "이름     False\n",
       "속성     False\n",
       "HP     False\n",
       "공격력    False\n",
       "방어력    False\n",
       "dtype: bool"
      ]
     },
     "execution_count": 14,
     "metadata": {},
     "output_type": "execute_result"
    }
   ],
   "source": [
    "obj.isnull()"
   ]
  },
  {
   "cell_type": "code",
   "execution_count": 15,
   "id": "1157bd5f",
   "metadata": {
    "scrolled": true
   },
   "outputs": [
    {
     "data": {
      "text/plain": [
       "이름     True\n",
       "속성     True\n",
       "HP     True\n",
       "공격력    True\n",
       "방어력    True\n",
       "dtype: bool"
      ]
     },
     "execution_count": 15,
     "metadata": {},
     "output_type": "execute_result"
    }
   ],
   "source": [
    "obj.notnull()"
   ]
  },
  {
   "cell_type": "markdown",
   "id": "39634ae0",
   "metadata": {},
   "source": [
    "## 3) Series 데이터 선택 "
   ]
  },
  {
   "cell_type": "code",
   "execution_count": 16,
   "id": "269f36cf",
   "metadata": {},
   "outputs": [
    {
     "data": {
      "text/plain": [
       "'전기'"
      ]
     },
     "execution_count": 16,
     "metadata": {},
     "output_type": "execute_result"
    }
   ],
   "source": [
    "obj['속성']"
   ]
  },
  {
   "cell_type": "code",
   "execution_count": 18,
   "id": "c0e70a29",
   "metadata": {},
   "outputs": [
    {
     "data": {
      "text/plain": [
       "'전기'"
      ]
     },
     "execution_count": 18,
     "metadata": {},
     "output_type": "execute_result"
    }
   ],
   "source": [
    "obj.loc['속성']"
   ]
  },
  {
   "cell_type": "code",
   "execution_count": 19,
   "id": "76512813",
   "metadata": {},
   "outputs": [
    {
     "data": {
      "text/plain": [
       "'전기'"
      ]
     },
     "execution_count": 19,
     "metadata": {},
     "output_type": "execute_result"
    }
   ],
   "source": [
    "obj.iloc[1]"
   ]
  },
  {
   "cell_type": "markdown",
   "id": "54c1c28f",
   "metadata": {},
   "source": [
    "###  슬라이싱"
   ]
  },
  {
   "cell_type": "code",
   "execution_count": null,
   "id": "93d3c7be",
   "metadata": {},
   "outputs": [],
   "source": [
    "obj"
   ]
  }
 ],
 "metadata": {
  "kernelspec": {
   "display_name": "Python 3 (ipykernel)",
   "language": "python",
   "name": "python3"
  },
  "language_info": {
   "codemirror_mode": {
    "name": "ipython",
    "version": 3
   },
   "file_extension": ".py",
   "mimetype": "text/x-python",
   "name": "python",
   "nbconvert_exporter": "python",
   "pygments_lexer": "ipython3",
   "version": "3.9.13"
  }
 },
 "nbformat": 4,
 "nbformat_minor": 5
}
